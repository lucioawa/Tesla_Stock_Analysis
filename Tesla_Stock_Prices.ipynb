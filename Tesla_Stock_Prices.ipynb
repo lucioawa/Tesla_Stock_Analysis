{
 "cells": [
  {
   "cell_type": "markdown",
   "id": "64532fc6-50a3-461e-88df-38bf69a19b6c",
   "metadata": {},
   "source": [
    "### **Tesla Stock Prices analysis by Lucio Awa**\n",
    "\n",
    "#### Source of data: [Kaggle](https://www.kaggle.com/datasets/varpit94/tesla-stock-data-updated-till-28jun2021)\n",
    "\n",
    "#### Programs used:\n",
    "\n",
    "- SQL\n",
    "- Python with Pandas\n",
    "- Matplotlib + Seaborn\n",
    "- PyGWalker \n",
    "\n",
    "### **II**. **Queries on Tesla's stock data from 6/29/10 to 3/24/22**\n",
    "\n",
    "#### Columns in Tesla's stock csv file:\n",
    "- Date\n",
    "- Open\n",
    "- High\n",
    "- Low\n",
    "- Close\n",
    "- Adjustment Close\n",
    "- Volume\n",
    "\n",
    "#### Queries:\n",
    "\n",
    "1. Basic Summary Statistics\n",
    "2. Yearly Average Closing Prices\n",
    "3. Highest Volume in a day with corresponding Maximum Volume for each year\n",
    "4. 10-day moving average of closing prices around Tesla's Highest Volume day\n",
    "5. Days with Significant Price Change around Tesla's Highest Volume day\n",
    "6. Yearly Low and High range of Tesla's stock prices\n",
    "7. Volume and Close Price Correlation\n",
    "\n",
    "#### Format of analysis for each query:\n",
    "\n",
    "- SQL query\n",
    "- Python with Pandas dataframe\n",
    "- Matplotlib + Seaborn Visualization\n",
    "- PyGWalker - Tableau-style UI for visual analysis\n",
    "- Insights gained about Tesla's stock"
   ]
  },
  {
   "cell_type": "markdown",
   "id": "8c1b6814-969a-47d2-b5e6-5d87d26e13f4",
   "metadata": {},
   "source": [
    "**____________________________________________________________________________________________________________________________________________________**\n",
    "\n",
    "### **Query 1. Basic Summary Statistics**\n",
    "\n",
    "### SQL Query:\n",
    "\n",
    "This query calculates and retrieves summary statistics for the 'Close' prices of Tesla stock from the Tesla_Stock_Prices   \n",
    "table in USD, limiting the results to only two decimal points.  \n",
    "\n",
    "* **SELECT**  \n",
    "    * **ROUND(MIN(Close),2) AS Min_Close,** -- Minimum value of 'close' column  \n",
    "    * **ROUND(MAX(Close), 2) AS Max_Close,** -- Maximum value of 'close' column  \n",
    "    * **ROUND(AVG(Close), 2) AS Avg_Close,** -- Average (mean) value of 'close' column  \n",
    "    * **ROUND(STDDEV(Close), 2) AS Std_Dev_Close** -- Standard deviation  value of 'close' column, a measure of how spread out   \n",
    "    the closing prices are from the average   \n",
    "* **FROM Tesla_Stock_Prices;** - - Data retrieved from this specific table  "
   ]
  },
  {
   "cell_type": "markdown",
   "id": "98bf718b-0fc4-49bc-be9a-a0d83e39ebdc",
   "metadata": {},
   "source": [
    "### Python with Pandas"
   ]
  },
  {
   "cell_type": "code",
   "execution_count": 8,
   "id": "a330a122-b4aa-46e1-b80f-19ee7e923c7f",
   "metadata": {},
   "outputs": [
    {
     "name": "stdout",
     "output_type": "stream",
     "text": [
      "Min Close: 3.16\n",
      "Max Close: 1229.91\n",
      "Avg Close: 138.76\n",
      "Std Dev Close: 250.12\n"
     ]
    },
    {
     "data": {
      "image/png": "[encoded data removed]",
      "text/plain": [
       "<Figure size 1000x600 with 1 Axes>"
      ]
     },
     "metadata": {},
     "output_type": "display_data"
    }
   ],
   "source": [
    "import pandas as pd\n",
    "import seaborn as sns\n",
    "import matplotlib.pyplot as plt\n",
    "s\n",
    "# Load the CSV file into a DataFrame\n",
    "df = pd.read_csv('C:/Users/User/Documents/DataAnalyst/TESLA_Stock/TSLA_2010_2022.csv')\n",
    "\n",
    "min_close = df['Close'].min()\n",
    "max_close = df['Close'].max()\n",
    "avg_close = df['Close'].mean()\n",
    "std_dev_close = df['Close'].std()\n",
    "\n",
    "# Define stat_labels and stat_values\n",
    "stat_labels = ['Min Close', 'Max Close', 'Avg Close', 'Std Dev Close']\n",
    "stat_values = [min_close, max_close, avg_close, std_dev_close]\n",
    "\n",
    "# Print the statistics\n",
    "print(f\"Min Close: {min_close:.2f}\")\n",
    "print(f\"Max Close: {max_close:.2f}\")\n",
    "print(f\"Avg Close: {avg_close:.2f}\")\n",
    "print(f\"Std Dev Close: {std_dev_close:.2f}\")\n",
    "\n",
    "# Horizontal Bar Plot\n",
    "plt.figure(figsize=(10, 6))\n",
    "sns.barplot(x=stat_values, y=stat_labels, orient='h')\n",
    "plt.title('Horizontal Bar Plot - Statistics')\n",
    "plt.xlabel('Value')\n",
    "plt.show()\n"
   ]
  },
  {
   "cell_type": "code",
   "execution_count": 15,
   "id": "cd9dea7e-630c-4ddf-afdb-f3a01a178e85",
   "metadata": {
    "scrolled": true
   },
   "outputs": [
    {
     "name": "stderr",
     "output_type": "stream",
     "text": [
      "WARNING: parse invoke code failed, This may affect feature of export code.\n"
     ]
    },
    {
     "data": {
      "application/vnd.jupyter.widget-view+json": {
       "model_id": "d4899b987f7b40c59f368c3fe10f8bf3",
       "version_major": 2,
       "version_minor": 0
      },
      "text/plain": [
       "Box(children=(HTML(value='<div id=\"ifr-pyg-6\" style=\"height: auto\">\\n    <head>\\n        <meta http-equiv=\"Con…"
      ]
     },
     "metadata": {},
     "output_type": "display_data"
    },
    {
     "data": {
      "text/html": [
       "<html>\n",
       "<style>\n",
       ".tabs{\n",
       "    position:relative;\n",
       "    height:660px;\n",
       "}\n",
       ".tab-pane{\n",
       "    display:inline-block;\n",
       "}\n",
       ".tabs input[type='radio']{\n",
       "    position:absolute;\n",
       "    clip:rect(0,0,0,0)\n",
       "}\n",
       ".tab-item{\n",
       "    display:block;\n",
       "    height:34px;\n",
       "    line-height:34px;\n",
       "    cursor:pointer;\n",
       "    padding:0 10px\n",
       "}\n",
       "\n",
       ".tabs input[type='radio']:checked+.tab-item{\n",
       "    background:#2563eb;\n",
       "    color:#fff\n",
       "}\n",
       "\n",
       ".tab-content{\n",
       "    display: none;\n",
       "    position:absolute;\n",
       "    left:0;\n",
       "    top:56px;\n",
       "    bottom:0;\n",
       "    right:0;\n",
       "}\n",
       "\n",
       ".tabs input[type='radio']:checked+.tab-item+.tab-content{\n",
       "    display: block;\n",
       "}\n",
       "</style>\n",
       "\n",
       "<body>\n",
       "    <div id=\"pygwalker-preview-6\">\n",
       "        <div class=\"tabs\">\n",
       "            \n",
       "        </div>\n",
       "    </div>\n",
       "</body>\n",
       "</html>"
      ],
      "text/plain": [
       "<IPython.core.display.HTML object>"
      ]
     },
     "metadata": {},
     "output_type": "display_data"
    },
    {
     "data": {
      "text/plain": [
       "<pygwalker.api.pygwalker.PygWalker at 0x12b15e66890>"
      ]
     },
     "execution_count": 15,
     "metadata": {},
     "output_type": "execute_result"
    }
   ],
   "source": [
    "# Basic Summary Statistics using PyGWalker\n",
    "\n",
    "#Load EDA Packages\n",
    "import pandas as pd\n",
    "import pygwalker as pyg\n",
    "\n",
    "# Load the CSV file into a DataFrame\n",
    "df = pd.read_csv('C:/Users/User/Documents/DataAnalyst/TESLA_Stock/TSLA_2010_2022.csv')\n",
    "\n",
    "pyg.walk(df, dark='light')"
   ]
  },
  {
   "cell_type": "markdown",
   "id": "e6cb1c49-74fc-4159-8e2a-88cc0ad7059d",
   "metadata": {},
   "source": [
    "### Query 1: Insights from Basic Summary Statistics\n",
    "\n",
    "**1. Significant Price Range:** Tesla's stock has experienced both substantial growth and volatility.\n",
    "\n",
    "**2. Long-Term Growth:** From $3.16 to $1229.91, it indicates a significant long-term growth in the value of the company.   \n",
    "Investors who held Tesla stock from the start of the period would have seen substantial appreciation in their   \n",
    "investments.\n",
    "\n",
    "**3. Volatility:** The wide range between the minimum and maximum prices indicates that Tesla's stock is characterized by   \n",
    "significant volatility. Such volatility can present both opportunities and risks for investors. It suggests that the   \n",
    "stock has experienced periods of rapid price changes, which could be influenced by various market factors, news, and   \n",
    "company developments.\n",
    "\n",
    "**4. Market Sentiment and External Factors:** The price fluctuations may reflect changes in market sentiment, investor   \n",
    "perceptions, macroeconomic conditions, and other external factors that impact Tesla's stock. The company's performance,   \n",
    "product launches, earnings reports, regulatory news, and technological advancements may have contributed to these   \n",
    "fluctuations.\n",
    "\n",
    "**5. Investor Behavior:** The large price range suggests that Tesla's stock has attracted a diverse range of investors,   \n",
    "including those seeking short-term trading opportunities and those with a long-term investment perspective. Different   \n",
    "investors may have reacted differently to news and events, contributing to the price volatility.\n",
    "\n",
    "**6. Potential for Gains and Losses:** The wide range of prices implies that there have been opportunities for investors to   \n",
    "make significant gains or losses depending on their timing of buying and selling. Traders and investors who correctly   \n",
    "predicted market trends could have profited from these price movements.\n",
    "\n",
    "**7. Historical Context:** Consider comparing the stock's price movements to significant events in the company's history,   \n",
    "such as product launches, earnings announcements, and industry trends. This can help provide a contextual understanding   \n",
    "of why certain price movements occurred.\n",
    "\n",
    "**8. Risk Management:** Investors and analysts need to be aware of the potential risks associated with such price volatility.   \n",
    "Volatile stocks can pose challenges for risk management and require careful evaluation and diversification strategies.\n",
    "\n",
    "**9. Average Closing Price (Avg_Close):** The average closing price of $138.76 represents the typical value of Tesla's stock   \n",
    "price over the dataset's time period. It provides a general overview of the stock's performance and trend. Keep in mind   \n",
    "that the average can be influenced by extreme values (outliers) in the data.\n",
    "\n",
    "**10. Standard Deviation of Closing Price (Std_Dev_Close):** The standard deviation of $250.12 indicates the amount of   \n",
    "variability or dispersion in Tesla's closing stock prices. A higher standard deviation suggests that the closing prices   \n",
    "have fluctuated significantly from the average. In other words, the stock prices have experienced relatively large   \n",
    "deviations from the mean, which may indicate higher volatility in the stock. The stock has experienced periods of both   \n",
    "increased gains and losses.\n",
    "\n",
    "**__________________________________________________________________________________________________________________________________________________**  "
   ]
  },
  {
   "cell_type": "markdown",
   "id": "8aa26334-663c-4d96-b237-83b60af9a87c",
   "metadata": {},
   "source": [
    "### **Query 2. Yearly Average Closing Prices:**\n",
    "\n",
    "### SQL Query:\n",
    "\n",
    "This query performs an analysis on the Tesla stock data, from 6/29/10 to 3/24/22, to calculate the average closing price       \n",
    "for each year.\n",
    "\n",
    "* **SELECT**\n",
    "    * **DATE_TRUNC('year', Date) AS Year,** -- The ‘DATE_TRUNC’ function truncates the ‘Date’ to a level of precision, in  \n",
    "    this case to the ‘year’ level. The result is displayed as a new column named ‘Year’’ in the output.  \n",
    "    * **ROUND(AVG(Close), 2) AS Avg_Close** -- The average closing price for all rows within each truncated year, rounded  \n",
    "    to 2 decimals. The result is displayed as a new column named Avg_Close in the output.\n",
    "* **FROM Tesla_Stock_Prices**\n",
    "* **GROUP BY Year** -- Groups the data by the ‘Year’ column created using ‘DATE_TRUNC’. This is essential when you want to   \n",
    "    aggregate data (e.g., calculate averages) for distinct groups.  \n",
    "* **ORDER BY Year;** -- Sorts the results in ascending order based on the ‘Year’ column. This ensures that the output  \n",
    "    displays the results in chronological order.\n",
    "\n",
    "### Python with Pandas:"
   ]
  },
  {
   "cell_type": "code",
   "execution_count": 5,
   "id": "1f041b6f-78f4-4854-984f-c3e8059653e3",
   "metadata": {},
   "outputs": [
    {
     "name": "stdout",
     "output_type": "stream",
     "text": [
      "    Year  Avg_Close\n",
      "0   2010       4.67\n",
      "1   2011       5.36\n",
      "2   2012       6.23\n",
      "3   2013      20.88\n",
      "4   2014      44.67\n",
      "5   2015      46.01\n",
      "6   2016      41.95\n",
      "7   2017      62.86\n",
      "8   2018      63.46\n",
      "9   2019      54.71\n",
      "10  2020     290.00\n",
      "11  2021     779.99\n",
      "12  2022     922.09\n"
     ]
    },
    {
     "data": {
      "image/png": "[encoded data removed]",
      "text/plain": [
       "<Figure size 1000x600 with 1 Axes>"
      ]
     },
     "metadata": {},
     "output_type": "display_data"
    }
   ],
   "source": [
    "# Imports necessary libraries\n",
    "import pandas as pd\n",
    "import matplotlib.pyplot as plt\n",
    "import seaborn as sns\n",
    "\n",
    "# Load the CSV file into a DataFrame\n",
    "df = pd.read_csv('C:/Users/User/Documents/DataAnalyst/TESLA_Stock/TSLA_2010_2022.csv')\n",
    "\n",
    "# Convert the 'Date' column to datetime format\n",
    "df['Date'] = pd.to_datetime(df['Date'])\n",
    "\n",
    "# Add a new column 'Year' by truncating the 'Date' to the year level\n",
    "df['Year'] = df['Date'].dt.year\n",
    "\n",
    "# Calculate the yearly average closing prices and round to 2 decimal places\n",
    "yearly_avg_close = df.groupby('Year')['Close'].mean().round(2)\n",
    "\n",
    "# Create a new DataFrame to store the results\n",
    "yearly_avg_df = pd.DataFrame({'Year': yearly_avg_close.index, 'Avg_Close': yearly_avg_close.values})\n",
    "\n",
    "# Print the DataFrame with yearly average closing prices\n",
    "print(yearly_avg_df)\n",
    "\n",
    "# Create a Seaborn visualization\n",
    "# The visualization is a bar plot with years on the x-axis and average closing prices on the y-axis, which should \n",
    "# provide a clear representation of the yearly trends in average closing prices.\n",
    "\n",
    "plt.figure(figsize=(10, 6))\n",
    "sns.barplot(x='Year', y='Avg_Close', data=yearly_avg_df, palette='pastel')\n",
    "plt.title('Yearly Average Closing Prices')\n",
    "plt.xlabel('Year')\n",
    "plt.ylabel('Average Closing Price')\n",
    "plt.xticks(rotation=45)\n",
    "plt.tight_layout()\n",
    "plt.show()"
   ]
  },
  {
   "cell_type": "code",
   "execution_count": 16,
   "id": "91648d73-19f7-4a79-b560-b72df3e2b504",
   "metadata": {
    "scrolled": true
   },
   "outputs": [
    {
     "name": "stderr",
     "output_type": "stream",
     "text": [
      "WARNING: parse invoke code failed, This may affect feature of export code.\n"
     ]
    },
    {
     "data": {
      "application/vnd.jupyter.widget-view+json": {
       "model_id": "e526977a28074d58bef5630d392f4a75",
       "version_major": 2,
       "version_minor": 0
      },
      "text/plain": [
       "Box(children=(HTML(value='<div id=\"ifr-pyg-7\" style=\"height: auto\">\\n    <head>\\n        <meta http-equiv=\"Con…"
      ]
     },
     "metadata": {},
     "output_type": "display_data"
    },
    {
     "data": {
      "text/html": [
       "<html>\n",
       "<style>\n",
       ".tabs{\n",
       "    position:relative;\n",
       "    height:660px;\n",
       "}\n",
       ".tab-pane{\n",
       "    display:inline-block;\n",
       "}\n",
       ".tabs input[type='radio']{\n",
       "    position:absolute;\n",
       "    clip:rect(0,0,0,0)\n",
       "}\n",
       ".tab-item{\n",
       "    display:block;\n",
       "    height:34px;\n",
       "    line-height:34px;\n",
       "    cursor:pointer;\n",
       "    padding:0 10px\n",
       "}\n",
       "\n",
       ".tabs input[type='radio']:checked+.tab-item{\n",
       "    background:#2563eb;\n",
       "    color:#fff\n",
       "}\n",
       "\n",
       ".tab-content{\n",
       "    display: none;\n",
       "    position:absolute;\n",
       "    left:0;\n",
       "    top:56px;\n",
       "    bottom:0;\n",
       "    right:0;\n",
       "}\n",
       "\n",
       ".tabs input[type='radio']:checked+.tab-item+.tab-content{\n",
       "    display: block;\n",
       "}\n",
       "</style>\n",
       "\n",
       "<body>\n",
       "    <div id=\"pygwalker-preview-7\">\n",
       "        <div class=\"tabs\">\n",
       "            \n",
       "        </div>\n",
       "    </div>\n",
       "</body>\n",
       "</html>"
      ],
      "text/plain": [
       "<IPython.core.display.HTML object>"
      ]
     },
     "metadata": {},
     "output_type": "display_data"
    },
    {
     "data": {
      "text/plain": [
       "<pygwalker.api.pygwalker.PygWalker at 0x12b15e85210>"
      ]
     },
     "execution_count": 16,
     "metadata": {},
     "output_type": "execute_result"
    }
   ],
   "source": [
    "# Yearly Average Per Year using PyGWalker\n",
    "\n",
    "#Load EDA Packages\n",
    "import pandas as pd\n",
    "import pygwalker as pyg\n",
    "\n",
    "# Load the CSV file into a DataFrame\n",
    "df = pd.read_csv('C:/Users/User/Documents/DataAnalyst/TESLA_Stock/TSLA_2010_2022.csv')\n",
    "\n",
    "pyg.walk(df, dark='light')"
   ]
  },
  {
   "cell_type": "markdown",
   "id": "f12aec54-30a0-4012-a41d-51fdc8d56ee8",
   "metadata": {},
   "source": [
    "### Query 2: Inshights from Yearly Average Closing Prices\n",
    "\n",
    "**1. Early Growth Phase (2010-2013):** During the initial years from 2010 to 2013, Tesla's stock averaged relatively   \n",
    "low closing prices, gradually increasing over the years. This suggests a period of early growth and development for   \n",
    "the company.\n",
    "\n",
    "**2. Rapid Growth and Expansion (2014-2017):** From 2014 to 2017, there was a substantial increase in the average  \n",
    "closing price, indicating a period of rapid growth and expansion for Tesla. This could be attributed to successful   \n",
    "product launches, increased demand, and positive market sentiment.\n",
    "\n",
    "**3. Stabilization (2018-2019):** The average closing price remained relatively stable from 2018 to 2019. This could   \n",
    "indicate a period of consolidation and market maturity as the company worked to maintain its position and manage   \n",
    "investor expectations.\n",
    "\n",
    "**4. Explosive Growth (2020-2021):** The years 2020 and 2021 saw a remarkable surge in the average closing price, with    \n",
    "an exponential increase in value. This period corresponds to significant milestones, such as Tesla's inclusion in the  \n",
    "S&P 500 index, continued growth in electric vehicle adoption, and high investor enthusiasm.\n",
    "\n",
    "**5. Continued Strong Performance (2022):** The average closing price in 2022 remains notably high, demonstrating that   \n",
    "Tesla's stock has maintained a strong performance and investor interest.\n",
    "\n",
    "**6. Market Sentiment and Events:** The fluctuations in average closing prices across the years suggest that market     \n",
    "sentiment and external events have played a significant role in driving Tesla's stock performance. Positive news,   \n",
    "product launches, financial results, and technological advancements likely influenced these fluctuations.\n",
    "\n",
    "**7. Investor Behavior:** The considerable variations in average closing prices from year to year reflect changes in   \n",
    "investor behavior, sentiment, and expectations. The years of explosive growth indicate periods of high investor   \n",
    "optimism and demand.\n",
    "\n",
    "**8. Volatility and Risk:** The wide range of average closing prices over the years indicates that Tesla's stock has   \n",
    "experienced considerable volatility. While this volatility presents opportunities for gains, it also poses risks for   \n",
    "investors due to potential rapid price swings.\n",
    "\n",
    "**9. Long-Term Growth Trend:** Despite short-term fluctuations, the general trend suggests that Tesla's stock has   \n",
    "experienced long-term growth since its inception, with particularly notable periods of acceleration.\n",
    "\n",
    "**__________________________________________________________________________________________________________________________________________________**"
   ]
  },
  {
   "cell_type": "markdown",
   "id": "eee9802e-7535-4ec8-9b52-47f4ce1390ca",
   "metadata": {},
   "source": [
    "### **Query 3. Highest Volume in a day with corresponding Maximum Volume for each year**\n",
    "\n",
    "#### SQL Query:\n",
    "\n",
    "The SQL query uses a CTE (Common Table Expression) to calculate the rank of trading volumes within each year and then   \n",
    "selects the rows where the rank is 1, indicating the days with the highest trading volume for each year. The results   \n",
    "include the year, date, and corresponding volume.\n",
    "\n",
    "* **WITH RankedByVolume AS (**\n",
    "    * **SELECT**  \n",
    "            * **Date,** -- Selects the trading date    \n",
    "            * **EXTRACT(YEAR FROM Date) AS Year,** -- Extracts the year from the date and assigns it as the 'Year' column    \n",
    "            * **Volume,** -- Selects the trading volume for that date    \n",
    "            * **RANK() OVER (PARTITION BY EXTRACT(YEAR FROM Date) ORDER BY Volume DESC) AS VolumeRank** -- Calculates the     \n",
    "                rank of each day's volume within the same year    \n",
    "    * **FROM Tesla_Stock_Prices**  \n",
    "* **)**   \n",
    "* **SELECT**   \n",
    "        * **Year,** -- The year extracted from the date    \n",
    "        * **Date AS Highest_Volume_Day,** -- The trading date itself    \n",
    "        * **Volume AS Max_Volume** -- The trading volume for that day    \n",
    "* **FROM RankedByVolume**  \n",
    "* **WHERE VolumeRank = 1** -- Filter the results to include only rows where the 'VolumeRank' is equal to 1, corresponding     \n",
    "    to the highest trading volume for each year  \n",
    "* **ORDER BY Year** -- Orders results by the 'Year' column in ascending order\n",
    "\n",
    "### Python with Pandas:"
   ]
  },
  {
   "cell_type": "code",
   "execution_count": 4,
   "id": "f16452d2-8f15-4a28-8d9a-2c963f2752d6",
   "metadata": {},
   "outputs": [
    {
     "name": "stdout",
     "output_type": "stream",
     "text": [
      "      Year       Date     Volume\n",
      "0     2010 2010-06-29   93831500\n",
      "191   2011 2011-03-31   57589000\n",
      "566   2012 2012-09-25   28402000\n",
      "723   2013 2013-05-14  185819500\n",
      "920   2014 2014-02-25  163408500\n",
      "1164  2015 2015-02-12   78248000\n",
      "1506  2016 2016-06-22  118712000\n",
      "1851  2017 2017-11-02   98957000\n",
      "2078  2018 2018-09-28  168248500\n",
      "2348  2019 2019-10-25  150030500\n",
      "2416  2020 2020-02-04  304694000\n",
      "2689  2021 2021-03-05   89396500\n",
      "2913  2022 2022-01-24   50521900\n"
     ]
    },
    {
     "data": {
      "image/png": "[encoded data removed]",
      "text/plain": [
       "<Figure size 1000x600 with 1 Axes>"
      ]
     },
     "metadata": {},
     "output_type": "display_data"
    }
   ],
   "source": [
    "# Imports necessary libraries\n",
    "import pandas as pd\n",
    "import matplotlib.pyplot as plt\n",
    "import seaborn as sns\n",
    "\n",
    "# Load the CSV file into a DataFrame\n",
    "df = pd.read_csv('C:/Users/User/Documents/DataAnalyst/TESLA_Stock/TSLA_2010_2022.csv')\n",
    "\n",
    "# Convert the 'Date' column to datetime format\n",
    "df['Date'] = pd.to_datetime(df['Date'])\n",
    "\n",
    "# Create a Common Table Expression (CTE) named 'RankedByVolume'\n",
    "ranked_by_volume = (\n",
    "    df.assign(Year=df['Date'].dt.year)\n",
    "    .sort_values(by=['Year', 'Volume'], ascending=[True, False])\n",
    "    .assign(VolumeRank=lambda x: x.groupby('Year').cumcount() + 1)\n",
    "    .query('VolumeRank == 1')\n",
    "    [['Year', 'Date', 'Volume']]\n",
    ")\n",
    "\n",
    "# Print the DataFrame with highest volume days and maximum volumes\n",
    "print(ranked_by_volume)\n",
    "\n",
    "# Create a Seaborn visualization\n",
    "plt.figure(figsize=(10, 6))\n",
    "\n",
    "# Generate a color palette with a different color for each bar\n",
    "colors = sns.color_palette(\"tab10\", n_colors=len(ranked_by_volume['Year'].unique()))\n",
    "\n",
    "# Bar plot with years on the x-axis and volume on the y-axis\n",
    "sns.barplot(x='Year', y='Volume', data=ranked_by_volume, palette=colors)\n",
    "\n",
    "plt.title('Highest Volume in a Day with Maximum Volume - Each Year')\n",
    "plt.xlabel('Year')\n",
    "plt.ylabel('Volume')\n",
    "plt.xticks(rotation=45)\n",
    "plt.tight_layout()\n",
    "plt.show()\n"
   ]
  },
  {
   "cell_type": "code",
   "execution_count": 17,
   "id": "e322f87b-ec6f-4261-9a5b-2b1d06124406",
   "metadata": {
    "scrolled": true
   },
   "outputs": [
    {
     "name": "stderr",
     "output_type": "stream",
     "text": [
      "WARNING: parse invoke code failed, This may affect feature of export code.\n"
     ]
    },
    {
     "data": {
      "application/vnd.jupyter.widget-view+json": {
       "model_id": "a1e3d8faab5a4556a444fb41edfaf51e",
       "version_major": 2,
       "version_minor": 0
      },
      "text/plain": [
       "Box(children=(HTML(value='<div id=\"ifr-pyg-8\" style=\"height: auto\">\\n    <head>\\n        <meta http-equiv=\"Con…"
      ]
     },
     "metadata": {},
     "output_type": "display_data"
    },
    {
     "data": {
      "text/html": [
       "<html>\n",
       "<style>\n",
       ".tabs{\n",
       "    position:relative;\n",
       "    height:660px;\n",
       "}\n",
       ".tab-pane{\n",
       "    display:inline-block;\n",
       "}\n",
       ".tabs input[type='radio']{\n",
       "    position:absolute;\n",
       "    clip:rect(0,0,0,0)\n",
       "}\n",
       ".tab-item{\n",
       "    display:block;\n",
       "    height:34px;\n",
       "    line-height:34px;\n",
       "    cursor:pointer;\n",
       "    padding:0 10px\n",
       "}\n",
       "\n",
       ".tabs input[type='radio']:checked+.tab-item{\n",
       "    background:#2563eb;\n",
       "    color:#fff\n",
       "}\n",
       "\n",
       ".tab-content{\n",
       "    display: none;\n",
       "    position:absolute;\n",
       "    left:0;\n",
       "    top:56px;\n",
       "    bottom:0;\n",
       "    right:0;\n",
       "}\n",
       "\n",
       ".tabs input[type='radio']:checked+.tab-item+.tab-content{\n",
       "    display: block;\n",
       "}\n",
       "</style>\n",
       "\n",
       "<body>\n",
       "    <div id=\"pygwalker-preview-8\">\n",
       "        <div class=\"tabs\">\n",
       "            \n",
       "        </div>\n",
       "    </div>\n",
       "</body>\n",
       "</html>"
      ],
      "text/plain": [
       "<IPython.core.display.HTML object>"
      ]
     },
     "metadata": {},
     "output_type": "display_data"
    },
    {
     "data": {
      "text/plain": [
       "<pygwalker.api.pygwalker.PygWalker at 0x12b160a0a60>"
      ]
     },
     "execution_count": 17,
     "metadata": {},
     "output_type": "execute_result"
    }
   ],
   "source": [
    "# Highest Volume in a day with corresponding Maximum Volume for each year using PyGWalker\n",
    "\n",
    "#Load EDA Packages\n",
    "import pandas as pd\n",
    "import pygwalker as pyg\n",
    "\n",
    "# Load the CSV file into a DataFrame\n",
    "df = pd.read_csv('C:/Users/User/Documents/DataAnalyst/TESLA_Stock/TSLA_2010_2022.csv')\n",
    "\n",
    "pyg.walk(df, dark='light')"
   ]
  },
  {
   "cell_type": "markdown",
   "id": "8829ba22-4979-41b0-b175-9441f1a7c878",
   "metadata": {},
   "source": [
    "### Query 3: Insights for Highest Volume in a day with Maximum Volume for each year\n",
    "\n",
    "The following results are shown in the context of some of the main global financial events from 2010 to 2022, along   \n",
    "with Elon’s Tesla and his other companies’ main financial events. These results provide insights into how these   \n",
    "events might have influenced Tesla's stock trading activity. \n",
    "\n",
    "##### Results divided into: \n",
    "\n",
    "- Query results\n",
    "- Global financial event\n",
    "- Tesla related event\n",
    "- Relation\n",
    "\n",
    "\n",
    "The observed patterns of maximum trading volume for Tesla's stock on specific dates and in particular years can be   \n",
    "attributed to the interplay of global financial events, Elon Musk's companies' developments, and broader market   \n",
    "dynamics.\n",
    "\n",
    "Instances of uncertainty, market shifts, and emerging investment prospects likely fueled heightened trading activity.   \n",
    "Significant announcements, milestones, and strategic decisions made by Elon Musk and his companies acted as catalysts   \n",
    "for investor interest in Tesla's stock. Furthermore, the synergy between broader market sentiment, investor behavior,   \n",
    "and the convergence of global financial events with specific company advancements collectively influenced the   \n",
    "observed trends in maximum trading volume.\n",
    "\n",
    "**1. June 30, 2010 - Volume: 93,831,500:**\n",
    "\n",
    "**Global financial event:** 2010 (European Debt Crisis)\n",
    "\n",
    "**Tesla related event:** Tesla went public on June 29, 2010, with an IPO price of $17 per share. High volume could   \n",
    "have been influenced by anticipation around product developments, early investor interest, or news related to electric   \n",
    "vehicle technology.\n",
    "\n",
    "**Relation:** The European Debt Crisis caused market volatility and uncertainty globally. This environment might have   \n",
    "affected investor sentiment around Tesla's IPO, potentially contributing to higher trading volume on the IPO day.\n",
    "\n",
    "\n",
    "**2. March 31, 2011 - Volume: 57,589,000:**\n",
    "\n",
    "**Global financial event:** U.S. Credit Rating Downgrade - Standard & Poor's downgraded the United States' credit   \n",
    "rating from AAA to AA+, citing concerns about the U.S. government's ability to manage its debt.\n",
    "\n",
    "**Tesla related event:** Tesla continued to develop electric vehicles, potentially driving interest and trading volume.\n",
    "\n",
    "**Relation:** The U.S. Credit Rating Downgrade event likely had broader implications for market sentiment, causing   \n",
    "investors to seek opportunities in innovative sectors that could weather economic challenges. Tesla's focus on   \n",
    "electric vehicles aligned with long-term sustainability goals, and its progress in this area could have provided a   \n",
    "counterbalance to the uncertainty caused by the credit rating downgrade. As investors sought avenues for potential   \n",
    "growth amidst market turbulence, Tesla's electric vehicle development could have garnered attention and contributed   \n",
    "to the observed trading volume on March 31, 2011.\n",
    "\n",
    "\n",
    "**3. September 25, 2012 - Volume: 28,402,000:**\n",
    "\n",
    "**Global financial event:** European Central Bank's Outright Monetary Transactions (OMT) - The ECB announced its plan   \n",
    "to potentially buy unlimited amounts of sovereign debt from struggling eurozone countries to stabilize their bond   \n",
    "markets.\n",
    "\n",
    "**Tesla related event:** Dragon's First Commercial Resupply Mission: In May 2012, SpaceX's Dragon spacecraft became the   \n",
    "first commercial spacecraft to deliver cargo to the International Space Station (ISS), marking a significant milestone   \n",
    "for commercial spaceflight.\n",
    "\n",
    "**Relation:** The European Central Bank's OMT announcement could have contributed to a broader sense of optimism in   \n",
    "financial markets, especially regarding potential solutions to the eurozone crisis. Investors may have been more open   \n",
    "to considering innovative and forward-looking investments, such as those associated with companies like Tesla and   \n",
    "SpaceX, which represented disruptive technologies and commercial space endeavors. The success of SpaceX's Dragon   \n",
    "mission highlighted the advancements in private spaceflight and contributed to the perception of SpaceX as a   \n",
    "trailblazer in the aerospace industry. This positive sentiment, coupled with the broader market context, might have   \n",
    "influenced trading activity and contributed to the observed trading volume on September 25, 2012.\n",
    "\n",
    "\n",
    "**4. May 14, 2013 - Volume: 185,819,500:**\n",
    "\n",
    "**Global financial event:** Taper Tantrum - The U.S. Federal Reserve announced its intention to reduce its bond-buying   \n",
    "program, leading to a surge in global interest rates and volatility in emerging markets.\n",
    "\n",
    "**Tesla related event:** First Profitable Quarter. Tesla reported its first-ever profitable quarter in Q1 2013, a   \n",
    "milestone that was seen as a turning point for the company's financial viability.\n",
    "\n",
    "**Relation:** The Taper Tantrum had widespread effects on financial markets, with investors seeking safe havens and   \n",
    "reevaluating their investment strategies. Against this backdrop, Tesla's announcement of a profitable quarter could   \n",
    "have been interpreted as a beacon of stability and resilience amid market turbulence. The achievement of profitability   \n",
    "demonstrated that Tesla's business model was maturing and had the potential to weather economic uncertainties. This   \n",
    "positive news could have attracted increased investor attention and contributed to the observed trading volume on May   \n",
    "14, 2013. The contrasting narratives of market volatility and Tesla's financial success might have created a scenario   \n",
    "where investors sought out companies that exhibited signs of strength and growth, influencing the trading activity of   \n",
    "Tesla's stock.\n",
    "\n",
    "\n",
    "**5. February 25, 2014 - Volume: 163,408,500:**\n",
    "\n",
    "**Global financial event:** Oil Price Collapse - The price of oil plummeted from around $100 per barrel to below $50   \n",
    "per barrel, due to factors like oversupply and weak global demand.\n",
    "\n",
    "**Tesla related event:** Gigafactory Announcement: In February 2014, Tesla announced plans to build a Gigafactory, a   \n",
    "massive battery production facility aimed at reducing the cost of batteries and enabling mass production of electric   \n",
    "vehicles.\n",
    "\n",
    "**Relation:** The Oil Price Collapse had broader implications for market sentiment, with investors reevaluating sectors   \n",
    "affected by oil prices. In this context, Tesla's announcement of the Gigafactory may have been perceived as a strategic   \n",
    "move to secure the company's supply chain and long-term growth prospects, regardless of energy market fluctuations.   \n",
    "Tesla's plans to reduce battery costs and enable mass EV production aligned with sustainability and innovation trends,   \n",
    "potentially making it an attractive investment opportunity amidst concerns about traditional energy markets. The   \n",
    "combination of the oil price collapse and Tesla's innovative plans could have led to increased investor attention and   \n",
    "trading activity on February 25, 2014. The positive narrative around Tesla's future growth and the company's strategic   \n",
    "decisions could have stood out in a market environment influenced by energy sector challenges.\n",
    "\n",
    "\n",
    "**6. February 12, 2015 - Volume: 78,248,000:**\n",
    "\n",
    "**Global financial event:** Chinese Stock Market Crash - The Chinese stock market experienced a major crash, with the   \n",
    "Shanghai Composite Index losing around 30% of its value in a short period, prompting government interventions to   \n",
    "stabilize the market.\n",
    "\n",
    "**Tesla related event:** Tesla made a big push into energy when it unveiled the Powerpack and Powerwall at an event in   \n",
    "Hawthorne, California.\n",
    "\n",
    "**Relation:** The Chinese Stock Market Crash created global market volatility and prompted investors to reassess their   \n",
    "exposure to riskier assets. Against this backdrop, Tesla's announcement of its Powerpack and Powerwall signaled a   \n",
    "strategic expansion into the energy sector, potentially appealing to investors seeking resilient and innovative   \n",
    "companies. Tesla's move into energy storage aligned with global sustainability trends and diversification away   \n",
    "from traditional energy sources. This expansion might have garnered increased attention from investors looking for   \n",
    "companies positioned to address emerging challenges in energy and environmental sustainability. The combination of   \n",
    "global market concerns and Tesla's innovative energy solutions could have influenced trading activity and   \n",
    "contributed to the observed trading volume on February 12, 2015.\n",
    "\n",
    "\n",
    "**7. June 22, 2016 - Volume: 118,712,000:**\n",
    "\n",
    "**Global financial event:** Brexit Referendum - The United Kingdom voted to leave the European Union, causing   \n",
    "significant uncertainty in financial markets and impacting the value of the British pound.\n",
    "\n",
    "**Tesla related event:** In 2016, Tesla became the world's first vertically-integrated sustainable energy company with   \n",
    "the acquisition of SolarCity, the leading provider of solar power systems in the United States.\n",
    "\n",
    "**Relation:** The Brexit Referendum triggered uncertainty and volatility in global financial markets, with investors   \n",
    "seeking stability amidst geopolitical developments. In this context, Tesla's acquisition of SolarCity could have   \n",
    "been perceived as a move to strengthen the company's long-term sustainability initiatives, offering an opportunity   \n",
    "for investors to engage with a company at the forefront of both electric vehicles and renewable energy. Tesla's   \n",
    "integrated approach resonated with global trends towards environmental responsibility and energy independence. The   \n",
    "combination of a tumultuous global event like Brexit and Tesla's strategic expansion could have attracted heightened   \n",
    "investor attention and contributed to the observed trading volume on June 22, 2016. The contrasting narratives of   \n",
    "geopolitical uncertainty and Tesla's expansion into renewable energy might have influenced trading activity by   \n",
    "offering investors an avenue for potential growth and alignment with sustainable values.\n",
    "\n",
    "\n",
    "**8. November 2, 2017 - Volume: 98,957,000.00:**\n",
    "\n",
    "**Global financial event:** Bitcoin Rally - The price of Bitcoin and other cryptocurrencies experienced a dramatic   \n",
    "surge, attracting widespread attention and speculation in the market.\n",
    "\n",
    "**Tesla related event:** The successful launch and landing of the Falcon Heavy rocket by SpaceX. Its maiden flight  \n",
    "took place on February 6, 2018, but the development and preparations for the launch occurred throughout 2017.\n",
    "\n",
    "**Relation:** The Bitcoin Rally drew attention from investors and the media, reflecting the growing interest in   \n",
    "alternative forms of investment and financial technology innovation. Against this backdrop, SpaceX's achievement   \n",
    "in launching and landing the Falcon Heavy rocket highlighted the potential for private companies to reshape the   \n",
    "aerospace sector. These events showcased disruptive technological advancements that could have attracted investors   \n",
    "looking for transformative opportunities beyond traditional markets. The Bitcoin Rally's association with   \n",
    "technology-driven financial speculation and the Falcon Heavy's demonstration of SpaceX's pioneering spirit could   \n",
    "have created a scenario where investors sought exposure to innovative companies like Tesla. The combination of these   \n",
    "narratives could have contributed to the observed trading volume on November 2, 2017, as investors looked for   \n",
    "opportunities in emerging technologies and industries.Pre-US-China Trade War could have influenced Tesla's   \n",
    "international operations and investor sentiment.\n",
    "\n",
    "\n",
    "**9. September 28, 2018 - Volume: 168,248,500.00:**\n",
    "\n",
    "**Global financial event:** Trade War - The United States and China engaged in a series of tit-for-tat tariff     \n",
    "announcements, sparking fears of a global trade war and affecting international trade and supply chains.\n",
    "\n",
    "**Tesla related event:** Tesla was added to the S&P 500 index, further solidifying its status as a major player   \n",
    "in the stock market.\n",
    "\n",
    "**Relation:** The Trade War between the United States and China had far-reaching implications for international   \n",
    "trade and investment. The uncertainty generated by the trade tensions prompted investors to reassess their   \n",
    "portfolios and seek stability. In contrast, Tesla's inclusion in the S&P 500 index highlighted the company's   \n",
    "growth trajectory and market influence. The addition to the index represented a vote of confidence in Tesla's   \n",
    "long-term prospects and positioned the company as a substantial player in the stock market. Amidst concerns   \n",
    "about global trade disruptions, Tesla's presence in the S&P 500 could have been perceived as a resilient   \n",
    "investment option with potential for consistent growth. The combination of trade tensions and Tesla's   \n",
    "recognition as a significant market player could have contributed to heightened trading activity on September   \n",
    "28, 2018, as investors evaluated opportunities in the context of evolving global economic dynamics.\n",
    "\n",
    "\n",
    "**10. October 25, 2019 - Volume: 150,030,500.00:**\n",
    "\n",
    "**Global financial event:** Repo Market Turmoil - The U.S. repurchase agreement (repo) market experienced a   \n",
    "liquidity squeeze, leading to a spike in short-term interest rates and prompting interventions by the Federal   \n",
    "Reserve to stabilize the market.\n",
    "\n",
    "**Tesla related event:** Further developments related to Tesla's electric vehicles and energy products.\n",
    "\n",
    "**Relation:** The Repo Market Turmoil signaled potential vulnerabilities in short-term funding markets and   \n",
    "underscored the importance of central bank interventions to maintain financial stability. Amidst these concerns,   \n",
    "Tesla's ongoing developments in electric vehicles and energy products could have presented a counter-narrative   \n",
    "of innovation and resilience. As the automotive industry faced challenges related to sustainable mobility, Tesla's   \n",
    "advancements might have resonated with investors seeking exposure to companies driving technological disruption and   \n",
    "environmental sustainability. The contrast between market turbulence and Tesla's trajectory as a technology-driven   \n",
    "company could have attracted trading activity on October 25, 2019. Investors looking for opportunities in sectors       \n",
    "poised for transformation might have viewed Tesla as a compelling option, given its role in reshaping \n",
    "transportation   \n",
    "and energy systems for the future.\n",
    "\n",
    "\n",
    "**11. February 4, 2020 - Volume: 304,694,000.00:**\n",
    "\n",
    "**Global financial event:** COVID-19 Pandemic - The global pandemic caused by the spread of the novel coronavirus led   \n",
    "to widespread lockdowns, economic disruptions, and financial market volatility.\n",
    "\n",
    "**Tesla related event:** Tesla disclosed a $1.5 billion investment in Bitcoin.\n",
    "\n",
    "**Relation:** The COVID-19 Pandemic triggered a period of unprecedented market turmoil and uncertainty. As economies   \n",
    "grappled with the effects of lockdowns and the potential long-term impacts of the pandemic, investors sought safe   \n",
    "havens and assets with potential for value preservation. In this context, Tesla's disclosure of a significant   \n",
    "Bitcoin investment could have added a layer of complexity to its financial strategy. The move could have been   \n",
    "perceived as an attempt to diversify assets or capitalize on potential opportunities in the cryptocurrency space.   \n",
    "The contrast between the global health crisis and Tesla's exploration of unconventional investment avenues could   \n",
    "have attracted investor attention on February 4, 2020. Investors navigating the uncertainties of the pandemic might   \n",
    "have viewed Tesla's strategic decisions as a reflection of its forward-looking approach and ability to adapt to   \n",
    "changing market dynamics. The combination of these narratives could have contributed to the observed trading   \n",
    "volume, as investors evaluated Tesla's potential resilience and growth prospects amidst a complex and rapidly   \n",
    "evolving global environment.\n",
    "\n",
    "\n",
    "**12. March 5, 2021 - Volume: 89,396,500.00:**\n",
    "\n",
    "**Global financial event:** GameStop Short Squeeze - Retail investors organized through online forums like Reddit's   \n",
    "WallStreetBets drove up the stock price of GameStop and other heavily shorted companies, causing major losses for   \n",
    "some hedge funds.\n",
    "\n",
    "**Tesla related event:** On January 7, 2021, Elon Musk's ascent to becoming the wealthiest person in the world,   \n",
    "according to Bloomberg, underscored the impact of his achievements across Tesla and other ventures. His wealth   \n",
    "ranking highlighted his influential role in shaping industries such as electric vehicles, space travel, and   \n",
    "technology.\n",
    "\n",
    "**Relation:** The GameStop Short Squeeze symbolized the power of retail investors to disrupt traditional market   \n",
    "dynamics and challenge established financial institutions. The collective action of online communities demonstrated   \n",
    "the potential for retail investors to influence stock prices and market sentiment, particularly for companies with   \n",
    "high short interest. Against this backdrop, Elon Musk's rise to the position of the world's wealthiest person   \n",
    "exemplified the influence of visionary leaders in shaping markets and industries. As the founder and leader of Tesla,   \n",
    "his achievements and strategic decisions were closely tied to the company's stock performance. The convergence of   \n",
    "these events could have prompted investors to consider the evolving landscape of financial markets, where individual   \n",
    "actions and charismatic leadership could impact market dynamics. Investors might have assessed the implications of   \n",
    "retail investor movements on Tesla's stock and its founder's position in the financial world. The combination of   \n",
    "these narratives could have contributed to the observed trading volume on March 5, 2021, as investors navigated the   \n",
    "intersection of individual-driven market forces and established market norms.\n",
    "\n",
    "\n",
    "**January 24, 2022 - Volume: 50,521,900.00:**\n",
    "\n",
    "**Global Financial Event:** Inflation Concerns - Rising inflation became a significant concern in many economies, as   \n",
    "central banks grappled with the challenge of balancing economic growth and price stability.\n",
    "\n",
    "**Tesla related event:** Musk acquires social media company Twitter in a $44 billion deal. His acquisition of Twitter    \n",
    "marked a significant departure from his primary ventures in technology, electric vehicles, and space exploration.   \n",
    "The acquisition underscored Musk's diverse interests and strategic vision for expanding his influence across various   \n",
    "industries.\n",
    "\n",
    "**Relation:** The concern over rising inflation represented a broader economic challenge that had implications for   \n",
    "financial markets and investment decisions. Investors closely monitored central bank policies and economic indicators   \n",
    "to gauge the potential impact of inflation on asset values and purchasing power. Amidst these discussions, Elon Musk's   \n",
    "acquisition of Twitter signaled his interest in broader spheres beyond his well-known technological ventures. The   \n",
    "acquisition might have raised questions about Musk's intentions and strategic objectives, potentially leading investors   \n",
    "to assess the implications of this move on his broader business portfolio. The intersection of concerns over inflation   \n",
    "and Musk's expansion into social media could have prompted investors to evaluate the resilience of Tesla's stock in the   \n",
    "context of evolving economic dynamics and the founder's diverse interests. The combination of these narratives could   \n",
    "have contributed to the observed trading volume on January 24, 2022, as investors considered the potential impact of   \n",
    "macroeconomic trends and the implications of Musk's strategic decisions on Tesla's future prospects.\n",
    "\n",
    "**__________________________________________________________________________________________________________________________________________________**"
   ]
  },
  {
   "cell_type": "markdown",
   "id": "60cd44f3-9583-445f-bfd0-f3fee6d3723e",
   "metadata": {},
   "source": [
    "### **Query 4. 10-day moving average of closing prices around Tesla's Highest Volume day**\n",
    "\n",
    "### SQL Query: \n",
    "\n",
    "The 10-day moving average is a commonly used technical analysis tool in finance to smooth out price data   \n",
    "over a 10-day period and provide a clearer picture of the underlying trend. \n",
    "\n",
    "This query provides 10 rows as a result around the date 2020-02-04, which is the highest volume day in Tesla's \n",
    "history.  \n",
    "These results are used to identify short-term trends and potential reversal points.\n",
    "\n",
    "* **SELECT** -- Selects specific columns to display in the query result.  \n",
    "    * **Date,** -- date of the stock price data\n",
    "    * **ROUND(Close, 2) AS Close,** -- rounds results to 2 decimal places. represents closing price of  \n",
    "        Tesla’s stock on that date and renames column as ‘close’\n",
    "    * **ROUND(AVG(Close) OVER (ORDER BY Date ROWS BETWEEN 9 PRECEDING AND CURRENT ROW), 2)   \n",
    "        AS Moving_Avg_10_Days** -- This part rounds to 2 decimal places and calculates the moving average   \n",
    "        of the ‘Close’ prices over a window of 10 days (including the current day) for each row.  \n",
    "        -- ‘AVG(Close)’ calculates the average of the ‘close’ prices within the specified window ‘OVER’   \n",
    "        Indicates that the following aggregation function (AVG in this case) will be applied to a window   \n",
    "        of rows.   \n",
    "        -- ORDER BY Date: Specifies that the window should be ordered by the ‘Date’ column.  \n",
    "        -- ROWS BETWEEN 9 PRECEDING AND CURRENT ROW: Defines the range of rows to be included in the window.   \n",
    "        It includes the 9 preceding rows and the current row, resulting in a total of 10 rows in the window.   \n",
    "        This corresponds to the 10-day moving average.  \n",
    "        -- AS Moving_Avg_10_Days: This renames the calculated moving average  \n",
    "* **FROM Tesla_Stock_Prices** -- This indicates the source table from which we are retrieving data  \n",
    "* **WHERE Date BETWEEN '2020-01-25' AND '2020-02-08'** -- Adjust the date range around 2020-02-04   \n",
    "    (from 2020-01-25 to 2020-02-08). This ensures that the 10 rows include the 10 days around the specified   \n",
    "    date.  \n",
    "* **ORDER BY Date;** -- This specifies that the result should be ordered by the ‘date’ column in ascending   \n",
    "    order.\n",
    "\n",
    "### Python with Pandas: "
   ]
  },
  {
   "cell_type": "code",
   "execution_count": 2,
   "id": "4c44e334-fb66-4002-acbf-97b5ebb6750b",
   "metadata": {},
   "outputs": [
    {
     "name": "stdout",
     "output_type": "stream",
     "text": [
      "           Date   Close  Moving_Avg_10_Days\n",
      "2410 2020-01-27  111.60              111.60\n",
      "2411 2020-01-28  113.38              112.49\n",
      "2412 2020-01-29  116.20              113.73\n",
      "2413 2020-01-30  128.16              117.34\n",
      "2414 2020-01-31  130.11              119.89\n",
      "2415 2020-02-03  156.00              125.91\n",
      "2416 2020-02-04  177.41              133.27\n",
      "2417 2020-02-05  146.94              134.98\n",
      "2418 2020-02-06  149.79              136.62\n",
      "2419 2020-02-07  149.61              137.92\n"
     ]
    },
    {
     "data": {
      "image/png": "[encoded data removed]",
      "text/plain": [
       "<Figure size 1000x600 with 1 Axes>"
      ]
     },
     "metadata": {},
     "output_type": "display_data"
    }
   ],
   "source": [
    "# Imports necessary libraries\n",
    "import pandas as pd\n",
    "import seaborn as sns\n",
    "import matplotlib.pyplot as plt\n",
    "\n",
    "# Load the CSV file into a DataFrame\n",
    "df = pd.read_csv('C:/Users/User/Documents/DataAnalyst/TESLA_Stock/TSLA_2010_2022.csv')\n",
    "\n",
    "# Convert 'Date' column to datetime format\n",
    "df['Date'] = pd.to_datetime(df['Date'])\n",
    "\n",
    "# Set the date range around 2020-02-04\n",
    "start_date = '2020-01-25'\n",
    "end_date = '2020-02-08'\n",
    "date_range = pd.date_range(start=start_date, end=end_date)\n",
    "\n",
    "# Filter the DataFrame to include only rows within the date range\n",
    "filtered_df = df[df['Date'].isin(date_range)].copy()  # Use .copy() to avoid the warning\n",
    "\n",
    "# Calculate the 10-day moving average using rolling and mean functions\n",
    "filtered_df['Moving_Avg_10_Days'] = filtered_df['Close'].rolling(window=10, min_periods=1).mean().round(2)\n",
    "\n",
    "# Round the 'Close' column to 2 decimal places\n",
    "filtered_df['Close'] = filtered_df['Close'].round(2)\n",
    "\n",
    "# Select specific columns for the result\n",
    "result_df = filtered_df[['Date', 'Close', 'Moving_Avg_10_Days']]\n",
    "\n",
    "# Print the result\n",
    "print(result_df)\n",
    "\n",
    "# Create a Seaborn line plot for visualization\n",
    "plt.figure(figsize=(10, 6))\n",
    "sns.lineplot(x='Date', y='Close', data=result_df, label='Close Price')\n",
    "sns.lineplot(x='Date', y='Moving_Avg_10_Days', data=result_df, label='10-day Moving Avg')\n",
    "plt.title('10-day Moving Average of Closing Prices')\n",
    "plt.xlabel('Date')\n",
    "plt.ylabel('Price')\n",
    "\n",
    "# Rotate the x-axis labels to prevent overlap of dates\n",
    "plt.xticks(rotation=45, ha='right')\n",
    "\n",
    "plt.legend()\n",
    "plt.tight_layout()  # Adjust layout to prevent clipping of labels\n",
    "plt.show()"
   ]
  },
  {
   "cell_type": "code",
   "execution_count": 18,
   "id": "dce060b9-4e3a-4739-b4f0-d14779383986",
   "metadata": {
    "scrolled": true
   },
   "outputs": [
    {
     "name": "stderr",
     "output_type": "stream",
     "text": [
      "WARNING: parse invoke code failed, This may affect feature of export code.\n"
     ]
    },
    {
     "data": {
      "application/vnd.jupyter.widget-view+json": {
       "model_id": "37695a03eca2431d983a8c313385da09",
       "version_major": 2,
       "version_minor": 0
      },
      "text/plain": [
       "Box(children=(HTML(value='<div id=\"ifr-pyg-9\" style=\"height: auto\">\\n    <head>\\n        <meta http-equiv=\"Con…"
      ]
     },
     "metadata": {},
     "output_type": "display_data"
    },
    {
     "data": {
      "text/html": [
       "<html>\n",
       "<style>\n",
       ".tabs{\n",
       "    position:relative;\n",
       "    height:660px;\n",
       "}\n",
       ".tab-pane{\n",
       "    display:inline-block;\n",
       "}\n",
       ".tabs input[type='radio']{\n",
       "    position:absolute;\n",
       "    clip:rect(0,0,0,0)\n",
       "}\n",
       ".tab-item{\n",
       "    display:block;\n",
       "    height:34px;\n",
       "    line-height:34px;\n",
       "    cursor:pointer;\n",
       "    padding:0 10px\n",
       "}\n",
       "\n",
       ".tabs input[type='radio']:checked+.tab-item{\n",
       "    background:#2563eb;\n",
       "    color:#fff\n",
       "}\n",
       "\n",
       ".tab-content{\n",
       "    display: none;\n",
       "    position:absolute;\n",
       "    left:0;\n",
       "    top:56px;\n",
       "    bottom:0;\n",
       "    right:0;\n",
       "}\n",
       "\n",
       ".tabs input[type='radio']:checked+.tab-item+.tab-content{\n",
       "    display: block;\n",
       "}\n",
       "</style>\n",
       "\n",
       "<body>\n",
       "    <div id=\"pygwalker-preview-9\">\n",
       "        <div class=\"tabs\">\n",
       "            \n",
       "        </div>\n",
       "    </div>\n",
       "</body>\n",
       "</html>"
      ],
      "text/plain": [
       "<IPython.core.display.HTML object>"
      ]
     },
     "metadata": {},
     "output_type": "display_data"
    },
    {
     "data": {
      "text/plain": [
       "<pygwalker.api.pygwalker.PygWalker at 0x12b15ef0e20>"
      ]
     },
     "execution_count": 18,
     "metadata": {},
     "output_type": "execute_result"
    }
   ],
   "source": [
    "# 10-day moving average of closing prices around Tesla's Highest Volume day using PyGWalker\n",
    "# results not as accurate as line plot above\n",
    "\n",
    "#Load EDA Packages\n",
    "import pandas as pd\n",
    "import pygwalker as pyg\n",
    "\n",
    "# Load the CSV file into a DataFrame\n",
    "df = pd.read_csv('C:/Users/User/Documents/DataAnalyst/TESLA_Stock/TSLA_2010_2022.csv')\n",
    "\n",
    "pyg.walk(df, dark='light')"
   ]
  },
  {
   "cell_type": "markdown",
   "id": "692bae88-4f66-4f65-85fe-7550983c492b",
   "metadata": {},
   "source": [
    "### Query 4. Insights for 10-day moving average of closing prices around Tesla's Highest Volume day\n",
    "\n",
    "This query provides insight into the short-term trend by smoothing out day-to-day fluctuations and highlighting the   \n",
    "general direction of the stock's price movement.\n",
    "\n",
    "The results of the 10-day moving average calculation around the date 2020-02-04 provide valuable insights into the   \n",
    "trend of Tesla's stock prices during that period. Here are some conclusions and insights that can be drawn from the   \n",
    "data:\n",
    "\n",
    "**1. Upward Trend:** The 10-day moving average generally shows an upward trend from January 27 to February 7. This   \n",
    "indicates that the average closing price of Tesla's stock increased over this period.\n",
    "\n",
    "**2. Significant Spike:** There is a significant spike in both the closing price and the moving average on 2020-02-04.   \n",
    "This corresponds to the day with the highest volume in Tesla's history. The closing price on this day was $177.41,   \n",
    "significantly higher than the previous days. This could indicate a significant event or news that impacted Tesla's   \n",
    "stock price and trading activity.\n",
    "\n",
    "**3. Volatility:** The closing prices exhibit significant fluctuations throughout this period, especially around the   \n",
    "date with the highest volume. This suggests that there might have been rapid shifts in investor sentiment and   \n",
    "trading activity during this time.\n",
    "\n",
    "**4. Market Response:** The increase in the 10-day moving average leading up to 2020-02-04 could indicate that market   \n",
    "participants were anticipating positive developments or news related to Tesla, which could have driven up stock   \n",
    "prices. The subsequent drop in the moving average after 2020-02-04 suggests a potential market response or   \n",
    "correction.\n",
    "\n",
    "**5. Trading Patterns:** The divergence between the closing price and the moving average on 2020-02-05 and 2020-02-06   \n",
    "suggests potential short-term volatility or trading patterns that might have influenced market participants'   \n",
    "decisions.\n",
    "\n",
    "**6. High Volume and Price Movement:** The fact that the day with the highest trading volume in Tesla's history,   \n",
    "2020-02-04, also had a significant increase in both the closing price and the moving average highlights the strong   \n",
    "relationship between trading activity and price movement.\n",
    "\n",
    "In summary, the 10-day moving average analysis provides insights into the short-term trends and dynamics of Tesla's   \n",
    "stock prices around the period of the highest trading volume in its history. It suggests that a notable event or   \n",
    "news on 2020-02-04 had a substantial impact on both trading activity and price movement. The moving average trend   \n",
    "leading up to and following this date can provide valuable context for understanding how market participants   \n",
    "responded to this event.\n",
    "\n",
    "**__________________________________________________________________________________________________________________________________________________**"
   ]
  },
  {
   "cell_type": "markdown",
   "id": "2011cf6e-d3bf-4620-9890-10a081a5270a",
   "metadata": {},
   "source": [
    "### **Query 5. Days with Significant Price Change around Tesla's Highest Volume day**\n",
    "\n",
    "### SQL Query: \n",
    "\n",
    "Price change for Tesla's stock, rounding the results to 2 decimal places. The result is displayed in a   \n",
    "new column named \"Price_Change,\" showing how much the stock price changed from one day to the next, with   \n",
    "the rounded value.\n",
    "\n",
    "* **SELECT** -- select specific columns from the table  \n",
    "    * **Date,** -- date of the stock price data  \n",
    "    * **ROUND(Close, 2) AS Close,** -- close price rounded to 2 places renamed as Close  \n",
    "    * **ROUND(Close - LAG(Close) OVER (ORDER BY Date), 2) AS Price_Change**  \n",
    "        -- calculation of price change between consecutive days rounded to 2 decimals.   \n",
    "        -- ‘Close’ is the current day’s closing price  \n",
    "        -- ‘LAG(Close) OVER (ORDER BY Date)’ fetches the closing price of the previous day using the ‘LAG’   \n",
    "        window function.  \n",
    "        -- ‘Close - LAG(Close)’ calculates the price change from the previous day to the current day.  \n",
    "* **FROM Tesla_Stock_Prices** -- from the Tesla table  \n",
    "* **WHERE Date BETWEEN '2020-01-25' AND '2020-02-08'** -- This filters the data to focus the analysis   \n",
    "    within the specified dates  \n",
    "* **ORDER BY Date;** -- orders the resulting rows based on the ‘Date’ column in ascending order.\n",
    "\n",
    "### Python with Pandas: "
   ]
  },
  {
   "cell_type": "code",
   "execution_count": 6,
   "id": "210dd6f1-708e-409d-a9b7-b7be4cdad906",
   "metadata": {},
   "outputs": [
    {
     "name": "stdout",
     "output_type": "stream",
     "text": [
      "           Date   Close  Price_Change\n",
      "2410 2020-01-27  111.60           NaN\n",
      "2411 2020-01-28  113.38          1.78\n",
      "2412 2020-01-29  116.20          2.82\n",
      "2413 2020-01-30  128.16         11.96\n",
      "2414 2020-01-31  130.11          1.95\n",
      "2415 2020-02-03  156.00         25.89\n",
      "2416 2020-02-04  177.41         21.41\n",
      "2417 2020-02-05  146.94        -30.47\n",
      "2418 2020-02-06  149.79          2.85\n",
      "2419 2020-02-07  149.61         -0.18\n"
     ]
    },
    {
     "data": {
      "image/png": "[encoded data removed]",
      "text/plain": [
       "<Figure size 1000x600 with 1 Axes>"
      ]
     },
     "metadata": {},
     "output_type": "display_data"
    }
   ],
   "source": [
    "# Imports necessary libraries\n",
    "import pandas as pd\n",
    "import seaborn as sns\n",
    "import matplotlib.pyplot as plt\n",
    "\n",
    "# Load the CSV file into a DataFrame\n",
    "df = pd.read_csv('C:/Users/User/Documents/DataAnalyst/TESLA_Stock/TSLA_2010_2022.csv')\n",
    "\n",
    "# Convert 'Date' column to datetime format\n",
    "df['Date'] = pd.to_datetime(df['Date'])\n",
    "\n",
    "# Set the date range\n",
    "start_date = '2020-01-25'\n",
    "end_date = '2020-02-08'\n",
    "date_range = pd.date_range(start=start_date, end=end_date)\n",
    "\n",
    "# Filter the DataFrame\n",
    "filtered_df = df[df['Date'].isin(date_range)].copy()\n",
    "\n",
    "# Round the 'Close' column to 2 decimal places\n",
    "filtered_df['Close'] = filtered_df['Close'].round(2)\n",
    "\n",
    "# Calculate the price change between consecutive days\n",
    "filtered_df['Price_Change'] = filtered_df['Close'] - filtered_df['Close'].shift(1)\n",
    "filtered_df['Price_Change'] = filtered_df['Price_Change'].round(2)\n",
    "\n",
    "# Select specific columns for the result\n",
    "result_df = filtered_df[['Date', 'Close', 'Price_Change']]\n",
    "\n",
    "# Print the result\n",
    "print(result_df)\n",
    "\n",
    "# Create a Seaborn visualization\n",
    "# In this example, I've used a bar plot from Seaborn to visualize the days with significant price changes. The \n",
    "# palette='coolwarm' parameter provides a color gradient to the bars. The x-axis labels are rotated for better \n",
    "# readability using plt.xticks(rotation=45, ha='right'), and plt.tight_layout() is used to ensure the labels are \n",
    "# displayed without clipping.\n",
    "plt.figure(figsize=(10, 6))\n",
    "sns.barplot(x=result_df['Date'].dt.strftime('%Y-%m-%d'), y='Price_Change', data=result_df, palette='coolwarm')\n",
    "plt.title('Days with Significant Price Change')\n",
    "plt.xlabel('Date')\n",
    "plt.ylabel('Price Change')\n",
    "\n",
    "# Rotate the x-axis labels\n",
    "plt.xticks(rotation=45, ha='right')\n",
    "\n",
    "# Adjust layout and display the plot\n",
    "plt.tight_layout()\n",
    "plt.show()\n",
    "\n"
   ]
  },
  {
   "cell_type": "code",
   "execution_count": 19,
   "id": "edac6841-a63b-442c-ac8b-aff4d496d6d3",
   "metadata": {
    "scrolled": true
   },
   "outputs": [
    {
     "name": "stderr",
     "output_type": "stream",
     "text": [
      "WARNING: parse invoke code failed, This may affect feature of export code.\n"
     ]
    },
    {
     "data": {
      "application/vnd.jupyter.widget-view+json": {
       "model_id": "b9625df706a441cfa716355a67df306a",
       "version_major": 2,
       "version_minor": 0
      },
      "text/plain": [
       "Box(children=(HTML(value='<div id=\"ifr-pyg-10\" style=\"height: auto\">\\n    <head>\\n        <meta http-equiv=\"Co…"
      ]
     },
     "metadata": {},
     "output_type": "display_data"
    },
    {
     "data": {
      "text/html": [
       "<html>\n",
       "<style>\n",
       ".tabs{\n",
       "    position:relative;\n",
       "    height:660px;\n",
       "}\n",
       ".tab-pane{\n",
       "    display:inline-block;\n",
       "}\n",
       ".tabs input[type='radio']{\n",
       "    position:absolute;\n",
       "    clip:rect(0,0,0,0)\n",
       "}\n",
       ".tab-item{\n",
       "    display:block;\n",
       "    height:34px;\n",
       "    line-height:34px;\n",
       "    cursor:pointer;\n",
       "    padding:0 10px\n",
       "}\n",
       "\n",
       ".tabs input[type='radio']:checked+.tab-item{\n",
       "    background:#2563eb;\n",
       "    color:#fff\n",
       "}\n",
       "\n",
       ".tab-content{\n",
       "    display: none;\n",
       "    position:absolute;\n",
       "    left:0;\n",
       "    top:56px;\n",
       "    bottom:0;\n",
       "    right:0;\n",
       "}\n",
       "\n",
       ".tabs input[type='radio']:checked+.tab-item+.tab-content{\n",
       "    display: block;\n",
       "}\n",
       "</style>\n",
       "\n",
       "<body>\n",
       "    <div id=\"pygwalker-preview-10\">\n",
       "        <div class=\"tabs\">\n",
       "            \n",
       "        </div>\n",
       "    </div>\n",
       "</body>\n",
       "</html>"
      ],
      "text/plain": [
       "<IPython.core.display.HTML object>"
      ]
     },
     "metadata": {},
     "output_type": "display_data"
    },
    {
     "data": {
      "text/plain": [
       "<pygwalker.api.pygwalker.PygWalker at 0x12b1608b940>"
      ]
     },
     "execution_count": 19,
     "metadata": {},
     "output_type": "execute_result"
    }
   ],
   "source": [
    "# Days with Significant Price Change around Tesla's Highest Volume day using PyGWalker\n",
    "# In this bar we can only visualize 'Close' sum not price but not the difference like using seaborn above\n",
    "\n",
    "# Load EDA Packages\n",
    "import pandas as pd\n",
    "import pygwalker as pyg\n",
    "\n",
    "# Load the CSV file into a DataFrame\n",
    "df = pd.read_csv('C:/Users/User/Documents/DataAnalyst/TESLA_Stock/TSLA_2010_2022.csv')\n",
    "\n",
    "pyg.walk(df, dark='light')"
   ]
  },
  {
   "cell_type": "markdown",
   "id": "dff16343-69bd-4df7-9a16-a4705044fb53",
   "metadata": {},
   "source": [
    "### Query 5. Insights for Days with Significant Price Change around Tesla's Highest Volume day\n",
    "\n",
    "Based on the provided results, we can observe the following conclusions and trends about the daily closing prices   \n",
    "and the price changes between consecutive days:\n",
    "\n",
    "**1. Increasing Trend at the Start:** The closing prices show a consistent upward trend from January 27 to January 31.   \n",
    "This indicates a period of consecutive gains in the stock price.\n",
    "\n",
    "**2. Significant Increase:** There is a notable jump in the closing price on February 3, 2020, with a price change of   \n",
    "$25.89. This suggests a significant positive movement in Tesla's stock on this day.\n",
    "\n",
    "**3. Highest Volume Day:** On February 4, 2020, the closing price experienced another substantial increase, reaching   \n",
    "`$177.41`. This date also coincides with the highest trading volume day in Tesla's history. The stock price increased   \n",
    "by `$21.41` compared to the previous day.\n",
    "\n",
    "**4. Sharp Decrease:** Following the peak on February 4, there is a sharp drop in the closing price on February 5,   \n",
    "resulting in a price change of -$30.47. This indicates a significant decline in Tesla's stock price.\n",
    "\n",
    "**5. Minor Fluctuations:** In the subsequent days (February 6 and 7), the closing prices show relatively minor   \n",
    "fluctuations, indicating a period of relative stability with small positive and negative changes.\n",
    "\n",
    "Periods of both upward and downward trends in Tesla's stock prices during the specified time frame. The most   \n",
    "significant price changes occurred around February 3 and February 4, with substantial increases in the stock price,   \n",
    "followed by a sharp decrease on February 5. These patterns highlight the volatility and potential market sentiment   \n",
    "shifts during this specific period.\n",
    "\n",
    "**__________________________________________________________________________________________________________________________________________________**"
   ]
  },
  {
   "cell_type": "markdown",
   "id": "59bad246-31d7-4235-af09-3176e33ef616",
   "metadata": {},
   "source": [
    "### **Query 6. Yearly Low and High range of Tesla's stock prices**\n",
    "\n",
    "### SQL Query: \n",
    "\n",
    "This SQL code extracts the year from the \"date\" column, calculates the minimum \"low\" and maximum \"high\" values   \n",
    "for each year from 2010 to 2022, and computes the yearly price range. The results are grouped by year and ordered   \n",
    "by year in ascending order.\n",
    "\n",
    "* **SELECT** -- select specific columns from the table  \n",
    "    * **EXTRACT(YEAR FROM \"date\") AS Year,** -- This line uses the EXTRACT function to extract the year component     \n",
    "        from the \"date\" column. 'AS Year' assigns an alias to the result of the extraction, renaming it to \"Year.\"        \n",
    "    * **ROUND(MIN(Low), 2) AS Yearly_Low,** -- the minimum value from the ‘Low’ column rounded to 2 decimal     \n",
    "        places, aliased as ‘Yearly_Low’    \n",
    "    * **ROUND(MAX(High), 2) AS Yearly_High** -- the maximum value from the ‘High’ column rounded to 2 decimal     \n",
    "        places, aliased as ‘Yearly_High’    \n",
    "    * **(MAX(\"high\") - MIN(\"low\")) AS Yearly_Range** --This line calculates the yearly range by subtracting the   \n",
    "        minimum \"low\" value from the maximum \"high\" value, and renames it 'Yearly_Range'.  \n",
    "* **FROM Tesla_Stock_Prices** -- specifies the table from which the data is retrieved    \n",
    "* **GROUP BY Year** -- groups the data by the ‘Year’ column, which is the truncated and casted date column we     \n",
    "    generated earlier.    \n",
    "* **ORDER BY Year;** -- orders the results based on the ‘Year’ column in ascending order  \n",
    "\n",
    "### Python with Pandas: "
   ]
  },
  {
   "cell_type": "code",
   "execution_count": 39,
   "id": "dd8f01ce-48c8-4c93-bd9b-f11a6f549705",
   "metadata": {},
   "outputs": [
    {
     "name": "stdout",
     "output_type": "stream",
     "text": [
      "      Year  Yearly_Low  Yearly_High  Yearly_Range\n",
      "0     2010        3.00         7.28          4.29\n",
      "130   2011        4.22         7.00          2.78\n",
      "382   2012        4.53         7.99          3.46\n",
      "632   2013        6.42        38.90         32.48\n",
      "884   2014       27.33        58.28         30.95\n",
      "1136  2015       36.28        57.33         21.05\n",
      "1388  2016       28.21        53.87         25.66\n",
      "1640  2017       42.19        77.92         35.73\n",
      "1891  2018       48.92        77.49         28.57\n",
      "2142  2019       35.40        87.06         51.66\n",
      "2394  2020       70.10       718.72        648.62\n",
      "2647  2021      539.49      1243.49        704.00\n",
      "2899  2022      700.00      1208.00        508.00\n"
     ]
    },
    {
     "data": {
      "image/png": "[encoded data removed]",
      "text/plain": [
       "<Figure size 1200x600 with 1 Axes>"
      ]
     },
     "metadata": {},
     "output_type": "display_data"
    }
   ],
   "source": [
    "import pandas as pd\n",
    "import seaborn as sns\n",
    "import matplotlib.pyplot as plt\n",
    "\n",
    "# Load the CSV file into a DataFrame\n",
    "df = pd.read_csv('C:/Users/User/Documents/DataAnalyst/TESLA_Stock/TSLA_2010_2022.csv')\n",
    "\n",
    "# Convert 'Date' column to datetime format\n",
    "df['Date'] = pd.to_datetime(df['Date'])\n",
    "\n",
    "# Extract the year from the \"Date\" column and round \"Low\" and \"High\" to 2 decimal places\n",
    "df['Year'] = df['Date'].dt.year\n",
    "df['Yearly_Low'] = df.groupby('Year')['Low'].transform('min').round(2)\n",
    "df['Yearly_High'] = df.groupby('Year')['High'].transform('max').round(2)\n",
    "\n",
    "# Calculate Yearly_Range and round it to 2 decimal places\n",
    "df['Yearly_Range'] = (df.groupby('Year')['High'].transform('max') - df.groupby('Year')['Low'].transform('min')).round(2)\n",
    "\n",
    "# Group by Year and select unique rows\n",
    "result_df = df[['Year', 'Yearly_Low', 'Yearly_High', 'Yearly_Range']].drop_duplicates().sort_values(by='Year')\n",
    "\n",
    "# Display the results\n",
    "print(result_df)\n",
    "\n",
    "# Create a Seaborn Matplotlib visualization\n",
    "plt.figure(figsize=(12, 6))\n",
    "sns.set_style(\"whitegrid\")\n",
    "sns.lineplot(data=result_df, x='Year', y='Yearly_Low', label='Yearly Low')\n",
    "sns.lineplot(data=result_df, x='Year', y='Yearly_High', label='Yearly High')\n",
    "plt.fill_between(result_df['Year'], result_df['Yearly_Low'], result_df['Yearly_High'], alpha=0.2)\n",
    "plt.xlabel('Year')\n",
    "plt.ylabel('Price')\n",
    "plt.title('Yearly Low and High Prices')\n",
    "plt.legend()\n",
    "plt.show()"
   ]
  },
  {
   "cell_type": "code",
   "execution_count": 37,
   "id": "b3b6cac6-f5cf-4ce1-b690-6796f7042ae9",
   "metadata": {
    "scrolled": true
   },
   "outputs": [
    {
     "name": "stderr",
     "output_type": "stream",
     "text": [
      "WARNING: parse invoke code failed, This may affect feature of export code.\n"
     ]
    },
    {
     "data": {
      "application/vnd.jupyter.widget-view+json": {
       "model_id": "6dbc6c127e7b44d9ab03cc6b736c7949",
       "version_major": 2,
       "version_minor": 0
      },
      "text/plain": [
       "Box(children=(HTML(value='<div id=\"ifr-pyg-14\" style=\"height: auto\">\\n    <head>\\n        <meta http-equiv=\"Co…"
      ]
     },
     "metadata": {},
     "output_type": "display_data"
    },
    {
     "data": {
      "text/html": [
       "<html>\n",
       "<style>\n",
       ".tabs{\n",
       "    position:relative;\n",
       "    height:660px;\n",
       "}\n",
       ".tab-pane{\n",
       "    display:inline-block;\n",
       "}\n",
       ".tabs input[type='radio']{\n",
       "    position:absolute;\n",
       "    clip:rect(0,0,0,0)\n",
       "}\n",
       ".tab-item{\n",
       "    display:block;\n",
       "    height:34px;\n",
       "    line-height:34px;\n",
       "    cursor:pointer;\n",
       "    padding:0 10px\n",
       "}\n",
       "\n",
       ".tabs input[type='radio']:checked+.tab-item{\n",
       "    background:#2563eb;\n",
       "    color:#fff\n",
       "}\n",
       "\n",
       ".tab-content{\n",
       "    display: none;\n",
       "    position:absolute;\n",
       "    left:0;\n",
       "    top:56px;\n",
       "    bottom:0;\n",
       "    right:0;\n",
       "}\n",
       "\n",
       ".tabs input[type='radio']:checked+.tab-item+.tab-content{\n",
       "    display: block;\n",
       "}\n",
       "</style>\n",
       "\n",
       "<body>\n",
       "    <div id=\"pygwalker-preview-14\">\n",
       "        <div class=\"tabs\">\n",
       "            \n",
       "        </div>\n",
       "    </div>\n",
       "</body>\n",
       "</html>"
      ],
      "text/plain": [
       "<IPython.core.display.HTML object>"
      ]
     },
     "metadata": {},
     "output_type": "display_data"
    },
    {
     "data": {
      "text/plain": [
       "<pygwalker.api.pygwalker.PygWalker at 0x12b20574ac0>"
      ]
     },
     "execution_count": 37,
     "metadata": {},
     "output_type": "execute_result"
    }
   ],
   "source": [
    "# Yearly Low and High range using PyGWalker\n",
    "# In this UIs we can observe the min 'low' and max 'high' for each year but not the range\n",
    "# nor the result are as accurate as the example above\n",
    "\n",
    "# #Load EDA Packages\n",
    "import pandas as pd\n",
    "import pygwalker as pyg\n",
    "\n",
    "# Load the CSV file into a DataFrame\n",
    "df = pd.read_csv('C:/Users/User/Documents/DataAnalyst/TESLA_Stock/TSLA_2010_2022.csv')\n",
    "\n",
    "pyg.walk(df, dark='light')"
   ]
  },
  {
   "cell_type": "markdown",
   "id": "ba0ec060-65c1-4d81-866c-47a981690dff",
   "metadata": {},
   "source": [
    "### Query 6. Insights for Yearly Low and High range of Tesla's stock prices\n",
    "\n",
    "**1. Early Volatility and Growth (2010-2012):** In the early years (2010-2012), Tesla's stock experienced   \n",
    "relatively low yearly lows and highs. This indicates that the stock was still finding its footing in the market.   \n",
    "The range gradually increased over these years, possibly reflecting growing investor interest and confidence in   \n",
    "the company's prospects.\n",
    "\n",
    "**2. Breakout and Expansion (2013-2014):** The year 2013 marked a significant jump in both the yearly low and high   \n",
    "prices, suggesting a major shift in market sentiment. This likely correlates with Tesla's achievements and   \n",
    "increased recognition as a leading electric vehicle manufacturer. The range continued to expand in 2014, showcasing   \n",
    "the company's continued growth and potential.\n",
    "\n",
    "**3. Steady Rise (2015-2017):** From 2015 to 2017, Tesla's stock demonstrated a steady increase in both its yearly     \n",
    "low and high prices. This period may reflect increasing adoption of electric vehicles, improvements in the company's     \n",
    "financials, and the unveiling of new products. The range between lows and highs also widened, indicating greater   \n",
    "price volatility.\n",
    "\n",
    "**4. High Growth and Market Recognition (2018-2020):** The years 2018 to 2020 saw substantial growth in Tesla's stock   \n",
    "prices. The yearly low and high ranges continued to expand significantly. This period is marked by Tesla's success   \n",
    "in becoming a major player in the electric vehicle market, achieving profitability, and its inclusion in the S&P 500.   \n",
    "The stock price surged to unprecedented levels, reflecting high investor confidence and optimism about the company's   \n",
    "future.\n",
    "\n",
    "**5. Consolidation and Maturation (2021-2022):** While the stock remained volatile, the yearly low and high ranges in   \n",
    "2021 and 2022 suggest a consolidation phase. The range is still substantial, but compared to the explosive growth   \n",
    "of previous years, it indicates a more mature and stabilized market perception of Tesla. The company's achievements,   \n",
    "such as record deliveries and profitability, likely contributed to maintaining strong investor interest.\n",
    "\n",
    "Overall, the yearly low and high ranges of Tesla's stock prices reflect the company's journey from its early stages   \n",
    "of volatility and innovation to becoming a global leader in the electric vehicle industry. The patterns observed in   \n",
    "the data highlight key milestones, market recognition, and periods of significant growth, providing insights into the   \n",
    "evolving perception and valuation of Tesla in the stock market.\n",
    "\n",
    "**__________________________________________________________________________________________________________________________________________________**"
   ]
  },
  {
   "cell_type": "markdown",
   "id": "68baf428-f3d5-4840-8f7e-271528f3b3ae",
   "metadata": {},
   "source": [
    "### **Query 7. Volume and Close Price Correlation**\n",
    "\n",
    "### SQL Query: \n",
    "\n",
    "In this query, the main focus is on calculating the correlation coefficient between the closing prices and trading   \n",
    "volumes of Tesla's stock over the entire data set. Here's an explanation of each element:\n",
    "\n",
    "* **SELECT** -- select specific columns from the table  \n",
    "    * **ROUND(CORR(Close, Volume)::numeric, 4) AS Correlation** -- ‘CORR(Close, Volume)’: this calculates the   \n",
    "        correlation coefficient between the ‘Close’ prices and the ‘Volume’ values       \n",
    "        -- ‘:: numeric’: This part is a type cast that converts the result of the ‘CORR’ function to the numeric   \n",
    "        data type.   \n",
    "        --The ‘::’ operator is used for type casting in PostgreSQL; it ensures that the result is treated as a   \n",
    "        numeric value, which is necessary for rounding.  \n",
    "        -- ‘ROUND(...)’: rounds the numeric value to 4 digits  \n",
    "        --AS Correlation -- renames the calculated correlation coefficient column  \n",
    "* **FROM Tesla_Stock_Prices;** -- specifies from which table data is retrieved\n",
    "\n",
    "### Python with Pandas: "
   ]
  },
  {
   "cell_type": "code",
   "execution_count": 5,
   "id": "be6fdacc-de73-4f6b-a39d-1cc41c2f9d13",
   "metadata": {},
   "outputs": [
    {
     "name": "stdout",
     "output_type": "stream",
     "text": [
      "Correlation between Close and Volume: 0.0906\n"
     ]
    },
    {
     "data": {
      "image/png": "[encoded data removed]",
      "text/plain": [
       "<Figure size 800x600 with 1 Axes>"
      ]
     },
     "metadata": {},
     "output_type": "display_data"
    }
   ],
   "source": [
    "import pandas as pd\n",
    "import seaborn as sns\n",
    "import matplotlib.pyplot as plt\n",
    "\n",
    "# Load the CSV file into a DataFrame\n",
    "df = pd.read_csv('C:/Users/User/Documents/DataAnalyst/TESLA_Stock/TSLA_2010_2022.csv')\n",
    "\n",
    "# Calculate the correlation coefficient between 'Close' and 'Volume' using the corr() method\n",
    "correlation = df['Close'].corr(df['Volume'])\n",
    "\n",
    "# Round the correlation coefficient to 4 decimal places\n",
    "rounded_correlation = round(correlation, 4)\n",
    "\n",
    "# Print the calculated correlation coefficient\n",
    "print(f\"Correlation between Close and Volume: {rounded_correlation}\")\n",
    "\n",
    "# Create a Seaborn scatter plot to visualize the correlation\n",
    "# The Seaborn scatter plot helps visualize the correlation between the 'Close' and 'Volume' values. The \n",
    "# points in the scatter plot represent the relationship between these two variables, and the overall \n",
    "# pattern can indicate the strength and direction of the correlation.\n",
    "plt.figure(figsize=(8, 6))\n",
    "sns.scatterplot(data=df, x='Volume', y='Close')\n",
    "plt.title('Correlation between Close and Volume')\n",
    "plt.xlabel('Volume')\n",
    "plt.ylabel('Close')\n",
    "plt.show()"
   ]
  },
  {
   "cell_type": "code",
   "execution_count": 14,
   "id": "dd830b31-b802-4748-88f4-457f3a029cb3",
   "metadata": {
    "scrolled": true
   },
   "outputs": [
    {
     "name": "stderr",
     "output_type": "stream",
     "text": [
      "WARNING: parse invoke code failed, This may affect feature of export code.\n"
     ]
    },
    {
     "data": {
      "application/vnd.jupyter.widget-view+json": {
       "model_id": "47d638bd42f04c1195d18cbaa54173e9",
       "version_major": 2,
       "version_minor": 0
      },
      "text/plain": [
       "Box(children=(HTML(value='<div id=\"ifr-pyg-5\" style=\"height: auto\">\\n    <head>\\n        <meta http-equiv=\"Con…"
      ]
     },
     "metadata": {},
     "output_type": "display_data"
    },
    {
     "data": {
      "text/html": [
       "<html>\n",
       "<style>\n",
       ".tabs{\n",
       "    position:relative;\n",
       "    height:660px;\n",
       "}\n",
       ".tab-pane{\n",
       "    display:inline-block;\n",
       "}\n",
       ".tabs input[type='radio']{\n",
       "    position:absolute;\n",
       "    clip:rect(0,0,0,0)\n",
       "}\n",
       ".tab-item{\n",
       "    display:block;\n",
       "    height:34px;\n",
       "    line-height:34px;\n",
       "    cursor:pointer;\n",
       "    padding:0 10px\n",
       "}\n",
       "\n",
       ".tabs input[type='radio']:checked+.tab-item{\n",
       "    background:#2563eb;\n",
       "    color:#fff\n",
       "}\n",
       "\n",
       ".tab-content{\n",
       "    display: none;\n",
       "    position:absolute;\n",
       "    left:0;\n",
       "    top:56px;\n",
       "    bottom:0;\n",
       "    right:0;\n",
       "}\n",
       "\n",
       ".tabs input[type='radio']:checked+.tab-item+.tab-content{\n",
       "    display: block;\n",
       "}\n",
       "</style>\n",
       "\n",
       "<body>\n",
       "    <div id=\"pygwalker-preview-5\">\n",
       "        <div class=\"tabs\">\n",
       "            \n",
       "        </div>\n",
       "    </div>\n",
       "</body>\n",
       "</html>"
      ],
      "text/plain": [
       "<IPython.core.display.HTML object>"
      ]
     },
     "metadata": {},
     "output_type": "display_data"
    },
    {
     "data": {
      "text/plain": [
       "<pygwalker.api.pygwalker.PygWalker at 0x12b15ea8f10>"
      ]
     },
     "execution_count": 14,
     "metadata": {},
     "output_type": "execute_result"
    }
   ],
   "source": [
    "#Volume and Close Price Correlation using PyGWalker\n",
    "\n",
    "#Load EDA Packages\n",
    "import pandas as pd\n",
    "import pygwalker as pyg\n",
    "\n",
    "# Load the CSV file into a DataFrame\n",
    "df = pd.read_csv('C:/Users/User/Documents/DataAnalyst/TESLA_Stock/TSLA_2010_2022.csv')\n",
    "\n",
    "pyg.walk(df, dark='light')"
   ]
  },
  {
   "cell_type": "markdown",
   "id": "fd662cab-8d46-4d07-9709-4e8b874852cc",
   "metadata": {},
   "source": [
    "### Query 7. Insights for Volume and Close Price Correlation\n",
    "\n",
    "The correlation coefficient value of 0.0906 suggests a very weak positive linear relationship between the closing   \n",
    "prices and trading volumes of Tesla's stock. Here are some conclusions and insights that can be drawn from this   \n",
    "correlation value:\n",
    "\n",
    "**1. Weak Correlation:** A correlation coefficient close to 0 indicates that there is little to no linear relationship   \n",
    "between the changes in closing prices and trading volumes. In this case, the value is positive, suggesting that as   \n",
    "closing prices increase, trading volumes tend to increase slightly as well. However, the correlation is too weak to   \n",
    "infer any strong connection between the two variables.\n",
    "\n",
    "**2. Limited Predictive Power:** Since the correlation is weak, it implies that changes in trading volume are not a   \n",
    "reliable predictor of changes in stock prices, and vice versa. Traders and investors should be cautious about using   \n",
    "trading volume as a sole indicator for making investment decisions related to Tesla's stock.\n",
    "\n",
    "**3. External Factors:** Factors beyond trading volume, such as company news, market sentiment, macroeconomic trends,   \n",
    "and regulatory changes, likely play a more significant role in driving Tesla's stock price movements.\n",
    "\n",
    "**4. Diverse Market Participants:** The weak correlation could be a result of various market participants with     \n",
    "different motivations and strategies. Some investors might focus more on short-term price fluctuations, while others   \n",
    "might prioritize long-term prospects, leading to varying trading behaviors.\n",
    "\n",
    "**5. Further Analysis Needed:** While the correlation is weak overall, it's important to note that correlation does   \n",
    "not imply causation. To gain a deeper understanding of the relationship between trading volume and stock prices,   \n",
    "additional analyses and consideration of other factors would be necessary.\n",
    "\n",
    "**__________________________________________________________________________________________________________________________________________________**"
   ]
  },
  {
   "cell_type": "code",
   "execution_count": null,
   "id": "da5251d7-7f48-4b31-a5a6-a8c087982175",
   "metadata": {},
   "outputs": [],
   "source": []
  }
 ],
 "metadata": {
  "kernelspec": {
   "display_name": "Python 3 (ipykernel)",
   "language": "python",
   "name": "python3"
  },
  "language_info": {
   "codemirror_mode": {
    "name": "ipython",
    "version": 3
   },
   "file_extension": ".py",
   "mimetype": "text/x-python",
   "name": "python",
   "nbconvert_exporter": "python",
   "pygments_lexer": "ipython3",
   "version": "3.10.12"
  }
 },
 "nbformat": 4,
 "nbformat_minor": 5
}
